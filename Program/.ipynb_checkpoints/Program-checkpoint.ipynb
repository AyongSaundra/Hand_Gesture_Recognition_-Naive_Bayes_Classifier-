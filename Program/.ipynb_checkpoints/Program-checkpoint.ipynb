{
 "cells": [
  {
   "cell_type": "code",
   "execution_count": 4,
   "id": "dd6281d8",
   "metadata": {},
   "outputs": [],
   "source": [
    "import pandas as pd\n",
    "import numpy as np\n",
    "import matplotlib.pyplot as plt\n",
    "from skimage.feature import hog\n",
    "from sklearn import datasets\n",
    "from sklearn.datasets import load_iris\n",
    "from sklearn.model_selection import train_test_split\n",
    "from sklearn.naive_bayes import GaussianNB\n",
    "from sklearn.preprocessing import LabelEncoder\n",
    "from sklearn.metrics import confusion_matrix, f1_score, accuracy_score\n",
    "from mlxtend.plotting import plot_confusion_matrix"
   ]
  },
  {
   "cell_type": "code",
   "execution_count": 6,
   "id": "c9909902",
   "metadata": {},
   "outputs": [],
   "source": [
    "images_train = pd.read_csv('../Mnist_Datasets_Trains_and_Tests/sign_mnist_train.csv')\n",
    "images_test = pd.read_csv('../Mnist_Datasets_Trains_and_Tests/sign_mnist_test.csv')"
   ]
  },
  {
   "cell_type": "code",
   "execution_count": 7,
   "id": "ee57fb91",
   "metadata": {},
   "outputs": [],
   "source": [
    "image_train = images_train.iloc[0:27455, 1:785].values\n",
    "label_train = images_train.iloc[0:27455, 0].values"
   ]
  },
  {
   "cell_type": "code",
   "execution_count": 8,
   "id": "bdd7eb02",
   "metadata": {},
   "outputs": [],
   "source": [
    "image_test = images_test.iloc[0:7172, 1:785].values\n",
    "label_test = images_test.iloc[0:7172,0].values"
   ]
  },
  {
   "cell_type": "code",
   "execution_count": 9,
   "id": "2d90419f",
   "metadata": {},
   "outputs": [],
   "source": [
    "feature, hog_img = hog(image_train[1].reshape(28,28), orientations=9, pixels_per_cell=(8, 8), cells_per_block=(2,2), visualize=True, block_norm='L2')"
   ]
  },
  {
   "cell_type": "code",
   "execution_count": 68,
   "id": "488d4e70",
   "metadata": {},
   "outputs": [
    {
     "data": {
      "text/plain": [
       "(144,)"
      ]
     },
     "execution_count": 68,
     "metadata": {},
     "output_type": "execute_result"
    }
   ],
   "source": [
    "feature.shape"
   ]
  },
  {
   "cell_type": "code",
   "execution_count": 69,
   "id": "e274d65b",
   "metadata": {},
   "outputs": [
    {
     "data": {
      "text/plain": [
       "<matplotlib.image.AxesImage at 0x7f0e58d0d190>"
      ]
     },
     "execution_count": 69,
     "metadata": {},
     "output_type": "execute_result"
    },
    {
     "data": {
      "image/png": "[encoded data removed]",
      "text/plain": [
       "<Figure size 432x288 with 1 Axes>"
      ]
     },
     "metadata": {
      "needs_background": "light"
     },
     "output_type": "display_data"
    }
   ],
   "source": [
    "plt.imshow(image_train[55].reshape(28,28), cmap='gray')"
   ]
  },
  {
   "cell_type": "code",
   "execution_count": 70,
   "id": "9209da92",
   "metadata": {},
   "outputs": [
    {
     "data": {
      "text/plain": [
       "19"
      ]
     },
     "execution_count": 70,
     "metadata": {},
     "output_type": "execute_result"
    }
   ],
   "source": [
    "label_train[55]"
   ]
  },
  {
   "cell_type": "code",
   "execution_count": 71,
   "id": "3fcc3738",
   "metadata": {},
   "outputs": [
    {
     "data": {
      "text/plain": [
       "<BarContainer object of 144 artists>"
      ]
     },
     "execution_count": 71,
     "metadata": {},
     "output_type": "execute_result"
    },
    {
     "data": {
      "image/png": "[encoded data removed]",
      "text/plain": [
       "<Figure size 432x288 with 1 Axes>"
      ]
     },
     "metadata": {
      "needs_background": "light"
     },
     "output_type": "display_data"
    }
   ],
   "source": [
    "plt.bar(list(range(feature.shape[0])), feature)"
   ]
  },
  {
   "cell_type": "code",
   "execution_count": 72,
   "id": "4a9a0d9f",
   "metadata": {},
   "outputs": [],
   "source": [
    "n_dims = feature.shape[0]"
   ]
  },
  {
   "cell_type": "code",
   "execution_count": 73,
   "id": "10047f20",
   "metadata": {},
   "outputs": [
    {
     "data": {
      "text/plain": [
       "144"
      ]
     },
     "execution_count": 73,
     "metadata": {},
     "output_type": "execute_result"
    }
   ],
   "source": [
    "n_dims"
   ]
  },
  {
   "cell_type": "code",
   "execution_count": 74,
   "id": "263df483",
   "metadata": {},
   "outputs": [],
   "source": [
    "n_samples = image_train.shape[0]"
   ]
  },
  {
   "cell_type": "code",
   "execution_count": 75,
   "id": "6e8c9628",
   "metadata": {},
   "outputs": [
    {
     "data": {
      "text/plain": [
       "27455"
      ]
     },
     "execution_count": 75,
     "metadata": {},
     "output_type": "execute_result"
    }
   ],
   "source": [
    "n_samples"
   ]
  },
  {
   "cell_type": "code",
   "execution_count": 120,
   "id": "25bf9932",
   "metadata": {},
   "outputs": [],
   "source": [
    "x_train, y_train = datasets.make_classification(n_samples=n_samples, n_features=n_dims)"
   ]
  },
  {
   "cell_type": "code",
   "execution_count": 121,
   "id": "1bfa4179",
   "metadata": {},
   "outputs": [],
   "source": [
    "for i in range(n_samples):\n",
    "    x_train[i], _ = hog(image_train[i].reshape(28,28), orientations=9, pixels_per_cell=(8, 8), cells_per_block=(2,2), visualize=True, block_norm='L2')\n",
    "    y_train[i] = label_train[i]"
   ]
  },
  {
   "cell_type": "code",
   "execution_count": 122,
   "id": "b8828820",
   "metadata": {},
   "outputs": [],
   "source": [
    "classifier = GaussianNB()"
   ]
  },
  {
   "cell_type": "code",
   "execution_count": 123,
   "id": "72a565a5",
   "metadata": {},
   "outputs": [
    {
     "data": {
      "text/plain": [
       "GaussianNB()"
      ]
     },
     "execution_count": 123,
     "metadata": {},
     "output_type": "execute_result"
    }
   ],
   "source": [
    "classifier.fit(x_train, y_train)"
   ]
  },
  {
   "cell_type": "code",
   "execution_count": 124,
   "id": "a4bee675",
   "metadata": {},
   "outputs": [],
   "source": [
    "n_samples = image_test.shape[0]"
   ]
  },
  {
   "cell_type": "code",
   "execution_count": 125,
   "id": "28fb4613",
   "metadata": {},
   "outputs": [],
   "source": [
    "x_test, y_test = datasets.make_classification(n_samples=n_samples, n_features=n_dims)"
   ]
  },
  {
   "cell_type": "code",
   "execution_count": 126,
   "id": "5e296bb3",
   "metadata": {},
   "outputs": [],
   "source": [
    "for i in range(n_samples):\n",
    "    x_test[i], _ = hog(image_test[i].reshape(28,28), orientations=9, pixels_per_cell=(8, 8), cells_per_block=(2,2), visualize=True, block_norm='L2')\n",
    "    y_test[i] = label_test[i]"
   ]
  },
  {
   "cell_type": "code",
   "execution_count": 127,
   "id": "e853fd5e",
   "metadata": {},
   "outputs": [],
   "source": [
    "y_pred = classifier.predict(x_test)"
   ]
  },
  {
   "cell_type": "code",
   "execution_count": 128,
   "id": "4cae5735",
   "metadata": {},
   "outputs": [],
   "source": [
    "out_one_hot = classifier.predict(x_test[14].reshape(1, n_dims))"
   ]
  },
  {
   "cell_type": "code",
   "execution_count": 129,
   "id": "bc09127e",
   "metadata": {},
   "outputs": [
    {
     "data": {
      "text/plain": [
       "7"
      ]
     },
     "execution_count": 129,
     "metadata": {},
     "output_type": "execute_result"
    }
   ],
   "source": [
    "out_one_hot[0]"
   ]
  },
  {
   "cell_type": "code",
   "execution_count": 130,
   "id": "c3db8396",
   "metadata": {},
   "outputs": [
    {
     "data": {
      "text/plain": [
       "<matplotlib.image.AxesImage at 0x7f0e589b9ed0>"
      ]
     },
     "execution_count": 130,
     "metadata": {},
     "output_type": "execute_result"
    },
    {
     "data": {
      "image/png": "[encoded data removed]",
      "text/plain": [
       "<Figure size 432x288 with 1 Axes>"
      ]
     },
     "metadata": {
      "needs_background": "light"
     },
     "output_type": "display_data"
    }
   ],
   "source": [
    "plt.imshow(image_test[0].reshape(28,28), cmap='gray')"
   ]
  },
  {
   "cell_type": "code",
   "execution_count": 131,
   "id": "5ba5351c",
   "metadata": {},
   "outputs": [],
   "source": [
    "cm = confusion_matrix(label_test,y_pred)"
   ]
  },
  {
   "cell_type": "code",
   "execution_count": 132,
   "id": "b9b9448a",
   "metadata": {},
   "outputs": [
    {
     "data": {
      "text/plain": [
       "array([[244,   0,   0,   0,  71,   0,   0,   0,   0,   0,   0,   3,  13,\n",
       "          0,   0,   0,   0,   0,   0,   0,   0,   0,   0,   0],\n",
       "       [  0, 304,   0,   1,  21,   0,   0,   0,   0,  61,   0,   0,   0,\n",
       "          0,   0,   0,  10,   0,   0,  34,   0,   1,   0,   0],\n",
       "       [  0,   0, 246,   0,   0,   0,   0,   0,   0,   0,   0,   0,   0,\n",
       "         28,   0,   0,   0,   0,  21,   0,   0,   0,  15,   0],\n",
       "       [  0,  19,   0,  86,  14,   1,   0,   0,   0,   0,   0,   0,   0,\n",
       "          0,   0,   0,  86,   5,   0,  15,   0,   0,  19,   0],\n",
       "       [ 56,  24,   0,   0, 355,   0,   0,   0,   0,   0,   0,  25,   0,\n",
       "          3,   0,   0,   0,  33,   1,   0,   0,   0,   1,   0],\n",
       "       [  0,  17,   0,   0,   0, 227,   0,   0,   0,   0,   0,   0,   0,\n",
       "          0,   0,   0,   0,   0,   0,   0,   3,   0,   0,   0],\n",
       "       [  0,   0,   0,   0,   0,   0, 272,  58,   0,   0,   0,   0,   0,\n",
       "          0,   0,   0,   0,   0,   1,   0,   0,   0,  17,   0],\n",
       "       [  0,   0,   0,   0,   0,   0,  96, 335,   0,   0,   0,   0,   0,\n",
       "          0,   0,   0,   0,   0,   5,   0,   0,   0,   0,   0],\n",
       "       [  0,   0,   0,   0,   0,   0,   0,   0, 260,   0,   1,   0,   0,\n",
       "          0,   0,   0,   0,   1,   5,   0,   0,   0,   0,  21],\n",
       "       [  0,   0,   0,  10,   0,   0,   1,   4,   0, 169,   0,   0,   0,\n",
       "          0,   6,   0,  65,   0,   1,  66,   4,   5,   0,   0],\n",
       "       [  0,   0,   0,   0,   0,   0,   0,   0,   0,   0, 187,   0,   0,\n",
       "          0,   0,  21,   0,   0,   0,   0,   1,   0,   0,   0],\n",
       "       [ 44,   6,   0,  23,  17,   0,   0,   0,   0,   0,   0, 177,  66,\n",
       "          1,   0,   0,   0,  43,   1,  16,   0,   0,   0,   0],\n",
       "       [ 60,  21,   0,  16,   0,   0,   2,   1,   0,   0,   0,  21, 122,\n",
       "          1,   0,   1,   0,  25,   0,  21,   0,   0,   0,   0],\n",
       "       [  0,   0,  22,   0,  28,   0,   0,   0,   0,   0,   0,   0,  21,\n",
       "        153,   0,   1,   0,   0,   0,   0,   0,   0,  21,   0],\n",
       "       [  0,   0,   0,   0,   0,   2,   0,  21,   0,   0,   0,   0,   0,\n",
       "          0, 324,   0,   0,   0,   0,   0,   0,   0,   0,   0],\n",
       "       [  0,   0,   0,   0,   0,   0,   0,   0,   0,   0,   0,   0,   0,\n",
       "          0,   0, 163,   0,   0,   0,   0,   0,   0,   1,   0],\n",
       "       [  0,   0,   0,   0,   0,   0,   0,   0,   0,   0,   0,   0,   0,\n",
       "          0,   0,   0, 131,   0,   0,  13,   0,   0,   0,   0],\n",
       "       [ 16,   0,   0,  19,  32,   0,   0,   0,   0,   0,   0,   1,   9,\n",
       "         20,   0,   0,   3, 144,   0,   1,   0,   0,   1,   0],\n",
       "       [  0,   0,   0,  12,   0,   0,  28,   0,   0,   0,   1,   0,  19,\n",
       "          0,   0,   0,   0,   0, 164,   0,   0,   0,  24,   0],\n",
       "       [  0,   0,   0,  14,   0,   0,   0,   0,   0,  38,   0,   0,   0,\n",
       "          0,   0,   0,  69,   0,   0, 143,   0,   2,   0,   0],\n",
       "       [  0,   0,   0,   0,   0,   0,   0,   0,   0,   0,   0,   0,   0,\n",
       "          0,   0,   0,  21,   0,   0,  57, 200,  68,   0,   0],\n",
       "       [  0,   0,   0,   0,   0,   0,   0,   0,   0,   0,   0,   0,   0,\n",
       "          0,   0,   0,   0,   0,   0,  40,  42, 124,   0,   0],\n",
       "       [  0,   0,   0,   0,   0,   0,   0,   0,   0,   0,   0,   0,   0,\n",
       "          0,   0,   0,   0,   0,  21,   0,   0,   0, 246,   0],\n",
       "       [  0,   0,   0,   0,   0,   0,   0,   0,   0,   0,   0,   0,   0,\n",
       "          0,   0,   0,   0,   0,   0,   0,  39,   0,   0, 293]])"
      ]
     },
     "execution_count": 132,
     "metadata": {},
     "output_type": "execute_result"
    }
   ],
   "source": [
    "cm"
   ]
  },
  {
   "cell_type": "code",
   "execution_count": 133,
   "id": "ef5aa993",
   "metadata": {},
   "outputs": [],
   "source": [
    "class_names = ['A', 'B', 'C', 'D', 'E', 'F', 'G', 'H', 'I', 'K','L','M','N','O','P','Q','R','S','T','U','V','W','X','Y']\n"
   ]
  },
  {
   "cell_type": "code",
   "execution_count": 134,
   "id": "9ccd1a6d",
   "metadata": {},
   "outputs": [
    {
     "data": {
      "image/png": "[encoded data removed]",
      "text/plain": [
       "<Figure size 432x288 with 1 Axes>"
      ]
     },
     "metadata": {
      "needs_background": "light"
     },
     "output_type": "display_data"
    }
   ],
   "source": [
    "fig, ax = plot_confusion_matrix(conf_mat=cm, class_names = class_names)"
   ]
  },
  {
   "cell_type": "code",
   "execution_count": 135,
   "id": "6024d9bc",
   "metadata": {},
   "outputs": [],
   "source": [
    "from sklearn.metrics import precision_score"
   ]
  },
  {
   "cell_type": "code",
   "execution_count": 136,
   "id": "c45867c1",
   "metadata": {},
   "outputs": [],
   "source": [
    "precision = precision_score(y_test, y_pred, average=None)"
   ]
  },
  {
   "cell_type": "code",
   "execution_count": 137,
   "id": "edb0cdc4",
   "metadata": {},
   "outputs": [
    {
     "data": {
      "text/plain": [
       "array([0.58095238, 0.77749361, 0.91791045, 0.47513812, 0.6598513 ,\n",
       "       0.98695652, 0.68170426, 0.79952267, 1.        , 0.63059701,\n",
       "       0.98941799, 0.77973568, 0.488     , 0.74271845, 0.98181818,\n",
       "       0.87634409, 0.34025974, 0.57370518, 0.74545455, 0.35221675,\n",
       "       0.69204152, 0.62      , 0.71304348, 0.93312102])"
      ]
     },
     "execution_count": 137,
     "metadata": {},
     "output_type": "execute_result"
    }
   ],
   "source": [
    "precision"
   ]
  },
  {
   "cell_type": "code",
   "execution_count": 138,
   "id": "c3db5d11",
   "metadata": {},
   "outputs": [],
   "source": [
    "from sklearn.metrics import recall_score"
   ]
  },
  {
   "cell_type": "code",
   "execution_count": 139,
   "id": "31740e41",
   "metadata": {},
   "outputs": [],
   "source": [
    "recall = recall_score(y_test, y_pred, average=None)"
   ]
  },
  {
   "cell_type": "code",
   "execution_count": 140,
   "id": "d731c108",
   "metadata": {},
   "outputs": [
    {
     "data": {
      "text/plain": [
       "array([0.73716012, 0.7037037 , 0.79354839, 0.35102041, 0.71285141,\n",
       "       0.91902834, 0.7816092 , 0.76834862, 0.90277778, 0.51057402,\n",
       "       0.89473684, 0.44923858, 0.41924399, 0.62195122, 0.93371758,\n",
       "       0.99390244, 0.90972222, 0.58536585, 0.66129032, 0.53759398,\n",
       "       0.57803468, 0.60194175, 0.92134831, 0.88253012])"
      ]
     },
     "execution_count": 140,
     "metadata": {},
     "output_type": "execute_result"
    }
   ],
   "source": [
    "recall"
   ]
  },
  {
   "cell_type": "code",
   "execution_count": 141,
   "id": "9798e4f7",
   "metadata": {},
   "outputs": [],
   "source": [
    "from sklearn.metrics import accuracy_score"
   ]
  },
  {
   "cell_type": "code",
   "execution_count": 142,
   "id": "306107f4",
   "metadata": {},
   "outputs": [],
   "source": [
    "accuracy = accuracy_score(y_test, y_pred)"
   ]
  },
  {
   "cell_type": "code",
   "execution_count": 143,
   "id": "bc8f0580",
   "metadata": {},
   "outputs": [
    {
     "data": {
      "text/plain": [
       "0.706776352481874"
      ]
     },
     "execution_count": 143,
     "metadata": {},
     "output_type": "execute_result"
    }
   ],
   "source": [
    "accuracy"
   ]
  },
  {
   "cell_type": "code",
   "execution_count": 144,
   "id": "9a2b5358",
   "metadata": {},
   "outputs": [],
   "source": [
    "f1 = f1_score(label_test,y_pred,average='macro')"
   ]
  },
  {
   "cell_type": "code",
   "execution_count": 145,
   "id": "23c50cf2",
   "metadata": {},
   "outputs": [
    {
     "data": {
      "text/plain": [
       "0.7077099155921024"
      ]
     },
     "execution_count": 145,
     "metadata": {},
     "output_type": "execute_result"
    }
   ],
   "source": [
    "f1"
   ]
  }
 ],
 "metadata": {
  "kernelspec": {
   "display_name": "Python 3",
   "language": "python",
   "name": "python3"
  },
  "language_info": {
   "codemirror_mode": {
    "name": "ipython",
    "version": 3
   },
   "file_extension": ".py",
   "mimetype": "text/x-python",
   "name": "python",
   "nbconvert_exporter": "python",
   "pygments_lexer": "ipython3",
   "version": "3.7.10"
  }
 },
 "nbformat": 4,
 "nbformat_minor": 5
}
